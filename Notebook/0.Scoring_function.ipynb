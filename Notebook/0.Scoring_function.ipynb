{
 "cells": [
  {
   "cell_type": "code",
   "execution_count": 33,
   "metadata": {},
   "outputs": [],
   "source": [
    "import pandas as pd\n",
    "def scoring_function(modele_name, time, silh, distortion, db_score):\n",
    "    \"\"\"\n",
    "    Agrège les différentes metrics appliqué au modèle de ML pour permettre de les comparer et choisir le meilleur modèle\n",
    "\n",
    "    Arguments:\n",
    "        modele_name : nom du modèle de clustering\n",
    "        time : temps de traitement du modèle\n",
    "        silh : silhouette score (permet d'évaluer la qualité du clustering, la cohérence intra-cluster)\n",
    "        distortion : coefficient de distortion (mesure la variation totale à l'intérieur des clusters)\n",
    "        db_score : davies-bouldin (compare la distance moyenne entre les points d'un cluster \n",
    "                                    avec la distance entre les centres de clusters)\n",
    "\n",
    "    Return : \n",
    "        array() : ajoute les valeurs à un tableau\n",
    "    \"\"\"\n",
    "    scoring_tab = {'Time': [time], 'Silhouette_score' : [silh], 'Coef_distortion' : [distortion], 'Davies-bouldin' : [db_score]}\n",
    "    scoring_tab = pd.DataFrame(scoring_tab)\n",
    "    scoring_tab = scoring_tab.set_index(pd.Index([modele_name]))\n",
    "\n",
    "    return scoring_tab"
   ]
  }
 ],
 "metadata": {
  "kernelspec": {
   "display_name": "base",
   "language": "python",
   "name": "python3"
  },
  "language_info": {
   "codemirror_mode": {
    "name": "ipython",
    "version": 3
   },
   "file_extension": ".py",
   "mimetype": "text/x-python",
   "name": "python",
   "nbconvert_exporter": "python",
   "pygments_lexer": "ipython3",
   "version": "3.10.9"
  }
 },
 "nbformat": 4,
 "nbformat_minor": 2
}
