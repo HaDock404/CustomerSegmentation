{
 "cells": [
  {
   "cell_type": "code",
   "execution_count": 6,
   "metadata": {},
   "outputs": [],
   "source": [
    "import pandas as pd"
   ]
  },
  {
   "cell_type": "code",
   "execution_count": 7,
   "metadata": {},
   "outputs": [],
   "source": [
    "global_scoring = {'Model_name': None, 'Time': None, 'Silhouette_score': None, 'Coef_distortion': None, 'Davies-bouldin': None}\n",
    "global_scoring = pd.DataFrame([global_scoring], index=[0])\n",
    "global_scoring.drop(global_scoring.index[0], inplace=True)\n",
    "global_scoring_csv = '../Data/0.global_scoring.csv'\n",
    "global_scoring.to_csv(global_scoring_csv, index=True)"
   ]
  },
  {
   "cell_type": "code",
   "execution_count": 5,
   "metadata": {},
   "outputs": [],
   "source": [
    "def AllScore_function(scoring_function):\n",
    "    \"\"\"\n",
    "    Agrège les différentes metrics appliqué au modèle de ML pour permettre de les comparer et choisir le meilleur modèle\n",
    "\n",
    "    Arguments:\n",
    "        scoring_function : dataframe à agréger au dataframe global\n",
    "\n",
    "    Return : \n",
    "        \n",
    "    \"\"\"\n",
    "    df = pd.read_csv('../Data/0.global_scoring.csv')\n",
    "    df = pd.concat([df, scoring_function])\n",
    "    df_csv = '../Data/0.global_scoring.csv'\n",
    "    df.to_csv(df_csv, index=True)\n",
    "    return "
   ]
  }
 ],
 "metadata": {
  "kernelspec": {
   "display_name": "base",
   "language": "python",
   "name": "python3"
  },
  "language_info": {
   "codemirror_mode": {
    "name": "ipython",
    "version": 3
   },
   "file_extension": ".py",
   "mimetype": "text/x-python",
   "name": "python",
   "nbconvert_exporter": "python",
   "pygments_lexer": "ipython3",
   "version": "3.10.9"
  }
 },
 "nbformat": 4,
 "nbformat_minor": 2
}
