{
 "cells": [
  {
   "cell_type": "code",
   "execution_count": 1,
   "metadata": {},
   "outputs": [
    {
     "name": "stdout",
     "output_type": "stream",
     "text": [
      "0.4444444444444444\n"
     ]
    }
   ],
   "source": [
    "from sklearn.metrics import adjusted_rand_score\n",
    "\n",
    "#peut etre regarder en combien de temps il y a 10.000 nouveaux clients/commandes\n",
    "\n",
    "#faire un échantillon de 10.OOO individus\n",
    "#faire tourner l'algo sur cet échantillon\n",
    "#comparer les résultats avec l'ari_score\n",
    "\n",
    "#ajouter 10.OOO individus\n",
    "#faire tourner l'algo sur cet échantillon\n",
    "#comparer le résultat avec l'ari score\n",
    "\n",
    "#montrer l'évolution de l'ari score ???\n",
    "\n",
    "a = [0, 0, 1, 1, 2, 2]\n",
    "b = [0, 0, 1, 1, 1, 2]\n",
    "\n",
    "ari_score = adjusted_rand_score(a, b)\n",
    "\n",
    "print(ari_score)"
   ]
  },
  {
   "cell_type": "code",
   "execution_count": null,
   "metadata": {},
   "outputs": [],
   "source": []
  }
 ],
 "metadata": {
  "kernelspec": {
   "display_name": "base",
   "language": "python",
   "name": "python3"
  },
  "language_info": {
   "codemirror_mode": {
    "name": "ipython",
    "version": 3
   },
   "file_extension": ".py",
   "mimetype": "text/x-python",
   "name": "python",
   "nbconvert_exporter": "python",
   "pygments_lexer": "ipython3",
   "version": "3.10.9"
  }
 },
 "nbformat": 4,
 "nbformat_minor": 2
}
