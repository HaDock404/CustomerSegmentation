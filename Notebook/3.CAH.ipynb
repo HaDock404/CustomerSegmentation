{
 "cells": [
  {
   "cell_type": "markdown",
   "metadata": {},
   "source": [
    "## CAH \n",
    "\n",
    "L'analyse hiérarchique ascendante (ou CAH) est une technique de clustering est utilisée pour regrouper des données en fonction de leurs similitudes en créant une hiérarchie de regroupements à partir des données."
   ]
  },
  {
   "cell_type": "code",
   "execution_count": 1,
   "metadata": {},
   "outputs": [],
   "source": [
    "# manipulation des données\n",
    "import numpy as np\n",
    "import pandas as pd\n",
    "\n",
    "# matplotlib et seaborn pour les représentations graphiques\n",
    "import matplotlib.pyplot as plt\n",
    "import seaborn as sns\n",
    "import missingno as msno\n",
    "\n",
    "# sklearn preprocessing pour le traitement les variables catégorielles\n",
    "from sklearn.preprocessing import LabelEncoder\n",
    "\n",
    "# Gestion du système de fichiers\n",
    "import os\n",
    "\n",
    "# Suppression des alertes\n",
    "import warnings\n",
    "warnings.filterwarnings('ignore')\n",
    "\n",
    "# permet d'afficher toutes les colonnes\n",
    "pd.set_option('display.max_columns', None)"
   ]
  },
  {
   "cell_type": "code",
   "execution_count": 2,
   "metadata": {},
   "outputs": [
    {
     "data": {
      "text/html": [
       "<div>\n",
       "<style scoped>\n",
       "    .dataframe tbody tr th:only-of-type {\n",
       "        vertical-align: middle;\n",
       "    }\n",
       "\n",
       "    .dataframe tbody tr th {\n",
       "        vertical-align: top;\n",
       "    }\n",
       "\n",
       "    .dataframe thead th {\n",
       "        text-align: right;\n",
       "    }\n",
       "</style>\n",
       "<table border=\"1\" class=\"dataframe\">\n",
       "  <thead>\n",
       "    <tr style=\"text-align: right;\">\n",
       "      <th></th>\n",
       "      <th>customer_unique_id</th>\n",
       "      <th>Recency</th>\n",
       "      <th>Frequency</th>\n",
       "      <th>Monetary</th>\n",
       "      <th>Monetary_bis</th>\n",
       "    </tr>\n",
       "  </thead>\n",
       "  <tbody>\n",
       "    <tr>\n",
       "      <th>0</th>\n",
       "      <td>7c396fd4830fd04220f754e42b4e5bff</td>\n",
       "      <td>27.289810</td>\n",
       "      <td>2</td>\n",
       "      <td>1.303348</td>\n",
       "      <td>38.71</td>\n",
       "    </tr>\n",
       "    <tr>\n",
       "      <th>1</th>\n",
       "      <td>af07308b275d755c9edb36a90c618231</td>\n",
       "      <td>14.162002</td>\n",
       "      <td>1</td>\n",
       "      <td>1.601216</td>\n",
       "      <td>141.46</td>\n",
       "    </tr>\n",
       "    <tr>\n",
       "      <th>2</th>\n",
       "      <td>3a653a41f6f9fc3d2a113cf8398680e8</td>\n",
       "      <td>13.051752</td>\n",
       "      <td>1</td>\n",
       "      <td>1.647432</td>\n",
       "      <td>179.12</td>\n",
       "    </tr>\n",
       "    <tr>\n",
       "      <th>3</th>\n",
       "      <td>7c142cf63193a1473d2e66489a9ae977</td>\n",
       "      <td>25.737451</td>\n",
       "      <td>1</td>\n",
       "      <td>1.457031</td>\n",
       "      <td>72.20</td>\n",
       "    </tr>\n",
       "    <tr>\n",
       "      <th>4</th>\n",
       "      <td>72632f0f9dd73dfee390c9b22eb56dd6</td>\n",
       "      <td>22.505471</td>\n",
       "      <td>1</td>\n",
       "      <td>1.220373</td>\n",
       "      <td>28.62</td>\n",
       "    </tr>\n",
       "    <tr>\n",
       "      <th>...</th>\n",
       "      <td>...</td>\n",
       "      <td>...</td>\n",
       "      <td>...</td>\n",
       "      <td>...</td>\n",
       "      <td>...</td>\n",
       "    </tr>\n",
       "    <tr>\n",
       "      <th>96091</th>\n",
       "      <td>6359f309b166b0196dbf7ad2ac62bb5a</td>\n",
       "      <td>33.093157</td>\n",
       "      <td>1</td>\n",
       "      <td>1.494089</td>\n",
       "      <td>85.08</td>\n",
       "    </tr>\n",
       "    <tr>\n",
       "      <th>96092</th>\n",
       "      <td>da62f9e57a76d978d02ab5362c509660</td>\n",
       "      <td>22.786720</td>\n",
       "      <td>1</td>\n",
       "      <td>1.663569</td>\n",
       "      <td>195.00</td>\n",
       "    </tr>\n",
       "    <tr>\n",
       "      <th>96093</th>\n",
       "      <td>737520a9aad80b3fbbdad19b66b37b30</td>\n",
       "      <td>28.407875</td>\n",
       "      <td>1</td>\n",
       "      <td>1.723809</td>\n",
       "      <td>271.01</td>\n",
       "    </tr>\n",
       "    <tr>\n",
       "      <th>96094</th>\n",
       "      <td>5097a5312c8b157bb7be58ae360ef43c</td>\n",
       "      <td>23.908753</td>\n",
       "      <td>1</td>\n",
       "      <td>1.686544</td>\n",
       "      <td>220.58</td>\n",
       "    </tr>\n",
       "    <tr>\n",
       "      <th>96095</th>\n",
       "      <td>60350aa974b26ff12caad89e55993bd6</td>\n",
       "      <td>21.549312</td>\n",
       "      <td>1</td>\n",
       "      <td>1.498673</td>\n",
       "      <td>86.86</td>\n",
       "    </tr>\n",
       "  </tbody>\n",
       "</table>\n",
       "<p>96096 rows × 5 columns</p>\n",
       "</div>"
      ],
      "text/plain": [
       "                     customer_unique_id    Recency  Frequency  Monetary  \\\n",
       "0      7c396fd4830fd04220f754e42b4e5bff  27.289810          2  1.303348   \n",
       "1      af07308b275d755c9edb36a90c618231  14.162002          1  1.601216   \n",
       "2      3a653a41f6f9fc3d2a113cf8398680e8  13.051752          1  1.647432   \n",
       "3      7c142cf63193a1473d2e66489a9ae977  25.737451          1  1.457031   \n",
       "4      72632f0f9dd73dfee390c9b22eb56dd6  22.505471          1  1.220373   \n",
       "...                                 ...        ...        ...       ...   \n",
       "96091  6359f309b166b0196dbf7ad2ac62bb5a  33.093157          1  1.494089   \n",
       "96092  da62f9e57a76d978d02ab5362c509660  22.786720          1  1.663569   \n",
       "96093  737520a9aad80b3fbbdad19b66b37b30  28.407875          1  1.723809   \n",
       "96094  5097a5312c8b157bb7be58ae360ef43c  23.908753          1  1.686544   \n",
       "96095  60350aa974b26ff12caad89e55993bd6  21.549312          1  1.498673   \n",
       "\n",
       "       Monetary_bis  \n",
       "0             38.71  \n",
       "1            141.46  \n",
       "2            179.12  \n",
       "3             72.20  \n",
       "4             28.62  \n",
       "...             ...  \n",
       "96091         85.08  \n",
       "96092        195.00  \n",
       "96093        271.01  \n",
       "96094        220.58  \n",
       "96095         86.86  \n",
       "\n",
       "[96096 rows x 5 columns]"
      ]
     },
     "execution_count": 2,
     "metadata": {},
     "output_type": "execute_result"
    }
   ],
   "source": [
    "df = pd.read_csv('../Data/2.RFM_dataset.csv')\n",
    "df"
   ]
  },
  {
   "cell_type": "code",
   "execution_count": 3,
   "metadata": {},
   "outputs": [
    {
     "data": {
      "text/html": [
       "<div>\n",
       "<style scoped>\n",
       "    .dataframe tbody tr th:only-of-type {\n",
       "        vertical-align: middle;\n",
       "    }\n",
       "\n",
       "    .dataframe tbody tr th {\n",
       "        vertical-align: top;\n",
       "    }\n",
       "\n",
       "    .dataframe thead th {\n",
       "        text-align: right;\n",
       "    }\n",
       "</style>\n",
       "<table border=\"1\" class=\"dataframe\">\n",
       "  <thead>\n",
       "    <tr style=\"text-align: right;\">\n",
       "      <th></th>\n",
       "      <th>customer_unique_id</th>\n",
       "      <th>Recency</th>\n",
       "      <th>Frequency</th>\n",
       "      <th>Monetary</th>\n",
       "    </tr>\n",
       "  </thead>\n",
       "  <tbody>\n",
       "    <tr>\n",
       "      <th>0</th>\n",
       "      <td>7c396fd4830fd04220f754e42b4e5bff</td>\n",
       "      <td>27.289810</td>\n",
       "      <td>2</td>\n",
       "      <td>1.303348</td>\n",
       "    </tr>\n",
       "    <tr>\n",
       "      <th>1</th>\n",
       "      <td>af07308b275d755c9edb36a90c618231</td>\n",
       "      <td>14.162002</td>\n",
       "      <td>1</td>\n",
       "      <td>1.601216</td>\n",
       "    </tr>\n",
       "    <tr>\n",
       "      <th>2</th>\n",
       "      <td>3a653a41f6f9fc3d2a113cf8398680e8</td>\n",
       "      <td>13.051752</td>\n",
       "      <td>1</td>\n",
       "      <td>1.647432</td>\n",
       "    </tr>\n",
       "    <tr>\n",
       "      <th>3</th>\n",
       "      <td>7c142cf63193a1473d2e66489a9ae977</td>\n",
       "      <td>25.737451</td>\n",
       "      <td>1</td>\n",
       "      <td>1.457031</td>\n",
       "    </tr>\n",
       "    <tr>\n",
       "      <th>4</th>\n",
       "      <td>72632f0f9dd73dfee390c9b22eb56dd6</td>\n",
       "      <td>22.505471</td>\n",
       "      <td>1</td>\n",
       "      <td>1.220373</td>\n",
       "    </tr>\n",
       "    <tr>\n",
       "      <th>...</th>\n",
       "      <td>...</td>\n",
       "      <td>...</td>\n",
       "      <td>...</td>\n",
       "      <td>...</td>\n",
       "    </tr>\n",
       "    <tr>\n",
       "      <th>96091</th>\n",
       "      <td>6359f309b166b0196dbf7ad2ac62bb5a</td>\n",
       "      <td>33.093157</td>\n",
       "      <td>1</td>\n",
       "      <td>1.494089</td>\n",
       "    </tr>\n",
       "    <tr>\n",
       "      <th>96092</th>\n",
       "      <td>da62f9e57a76d978d02ab5362c509660</td>\n",
       "      <td>22.786720</td>\n",
       "      <td>1</td>\n",
       "      <td>1.663569</td>\n",
       "    </tr>\n",
       "    <tr>\n",
       "      <th>96093</th>\n",
       "      <td>737520a9aad80b3fbbdad19b66b37b30</td>\n",
       "      <td>28.407875</td>\n",
       "      <td>1</td>\n",
       "      <td>1.723809</td>\n",
       "    </tr>\n",
       "    <tr>\n",
       "      <th>96094</th>\n",
       "      <td>5097a5312c8b157bb7be58ae360ef43c</td>\n",
       "      <td>23.908753</td>\n",
       "      <td>1</td>\n",
       "      <td>1.686544</td>\n",
       "    </tr>\n",
       "    <tr>\n",
       "      <th>96095</th>\n",
       "      <td>60350aa974b26ff12caad89e55993bd6</td>\n",
       "      <td>21.549312</td>\n",
       "      <td>1</td>\n",
       "      <td>1.498673</td>\n",
       "    </tr>\n",
       "  </tbody>\n",
       "</table>\n",
       "<p>96096 rows × 4 columns</p>\n",
       "</div>"
      ],
      "text/plain": [
       "                     customer_unique_id    Recency  Frequency  Monetary\n",
       "0      7c396fd4830fd04220f754e42b4e5bff  27.289810          2  1.303348\n",
       "1      af07308b275d755c9edb36a90c618231  14.162002          1  1.601216\n",
       "2      3a653a41f6f9fc3d2a113cf8398680e8  13.051752          1  1.647432\n",
       "3      7c142cf63193a1473d2e66489a9ae977  25.737451          1  1.457031\n",
       "4      72632f0f9dd73dfee390c9b22eb56dd6  22.505471          1  1.220373\n",
       "...                                 ...        ...        ...       ...\n",
       "96091  6359f309b166b0196dbf7ad2ac62bb5a  33.093157          1  1.494089\n",
       "96092  da62f9e57a76d978d02ab5362c509660  22.786720          1  1.663569\n",
       "96093  737520a9aad80b3fbbdad19b66b37b30  28.407875          1  1.723809\n",
       "96094  5097a5312c8b157bb7be58ae360ef43c  23.908753          1  1.686544\n",
       "96095  60350aa974b26ff12caad89e55993bd6  21.549312          1  1.498673\n",
       "\n",
       "[96096 rows x 4 columns]"
      ]
     },
     "execution_count": 3,
     "metadata": {},
     "output_type": "execute_result"
    }
   ],
   "source": [
    "df = df.drop(columns='Monetary_bis')\n",
    "df"
   ]
  },
  {
   "cell_type": "markdown",
   "metadata": {},
   "source": [
    "Pour simplifier notre étude sur le nombre de cluster que nous allons créer, nous pouvons effectuer un échantillonnage de nos données afin d'optimiser les test de clustering."
   ]
  },
  {
   "cell_type": "code",
   "execution_count": 4,
   "metadata": {},
   "outputs": [
    {
     "data": {
      "text/plain": [
       "(10000, 4)"
      ]
     },
     "execution_count": 4,
     "metadata": {},
     "output_type": "execute_result"
    }
   ],
   "source": [
    "df_sample = df.sample(10000, replace=False)\n",
    "df_sample.shape"
   ]
  },
  {
   "cell_type": "code",
   "execution_count": 5,
   "metadata": {},
   "outputs": [
    {
     "name": "stdout",
     "output_type": "stream",
     "text": [
      "(10000, 3)\n",
      "(10000,)\n"
     ]
    }
   ],
   "source": [
    "X = df_sample.drop('customer_unique_id', axis=1).values\n",
    "y = df_sample['customer_unique_id'].values\n",
    "print(X.shape)\n",
    "print(y.shape)"
   ]
  },
  {
   "cell_type": "code",
   "execution_count": 6,
   "metadata": {},
   "outputs": [
    {
     "name": "stdout",
     "output_type": "stream",
     "text": [
      "(10000, 3)\n"
     ]
    }
   ],
   "source": [
    "from sklearn import preprocessing\n",
    "\n",
    "X_norm = preprocessing.scale(X)\n",
    "print(X_norm.shape)"
   ]
  },
  {
   "cell_type": "markdown",
   "metadata": {},
   "source": [
    "Pour déterminer le nombre de clusters adéquats pour la segmentation des clients avec ce modèle de ML nous utilisons un dendrogramme. C'est un type de diagramme arborescent utilisé en analyse hiérarchique pour représenter la manière dont les clusters (ou groupes) de données sont formés et organisés au fil des étapes de l'analyse.\n",
    "Un dendrogramme est particulièrement utile pour visualiser la structure hiérarchique des regroupements de données. Il permet de comprendre comment les clusters sont formés, quels sont les points de jonction les plus significatifs, et comment les groupes sont liés entre eux."
   ]
  },
  {
   "cell_type": "code",
   "execution_count": 7,
   "metadata": {},
   "outputs": [
    {
     "data": {
      "image/png": "[encoded data removed]",
      "text/plain": [
       "<Figure size 640x480 with 1 Axes>"
      ]
     },
     "metadata": {},
     "output_type": "display_data"
    }
   ],
   "source": [
    "from sklearn.cluster import AgglomerativeClustering\n",
    "from scipy.cluster.hierarchy import dendrogram, linkage\n",
    "\n",
    "distance_matrix = linkage(X_norm, method='ward')\n",
    "dendrogram_plot = dendrogram(distance_matrix)\n",
    "\n",
    "plt.title('Dendrogramme')\n",
    "plt.show()"
   ]
  },
  {
   "cell_type": "code",
   "execution_count": 8,
   "metadata": {},
   "outputs": [
    {
     "data": {
      "text/html": [
       "<div>\n",
       "<style scoped>\n",
       "    .dataframe tbody tr th:only-of-type {\n",
       "        vertical-align: middle;\n",
       "    }\n",
       "\n",
       "    .dataframe tbody tr th {\n",
       "        vertical-align: top;\n",
       "    }\n",
       "\n",
       "    .dataframe thead th {\n",
       "        text-align: right;\n",
       "    }\n",
       "</style>\n",
       "<table border=\"1\" class=\"dataframe\">\n",
       "  <thead>\n",
       "    <tr style=\"text-align: right;\">\n",
       "      <th></th>\n",
       "      <th>customer_unique_id</th>\n",
       "      <th>Recency</th>\n",
       "      <th>Frequency</th>\n",
       "      <th>Monetary</th>\n",
       "    </tr>\n",
       "  </thead>\n",
       "  <tbody>\n",
       "    <tr>\n",
       "      <th>0</th>\n",
       "      <td>7c396fd4830fd04220f754e42b4e5bff</td>\n",
       "      <td>27.289810</td>\n",
       "      <td>2</td>\n",
       "      <td>1.303348</td>\n",
       "    </tr>\n",
       "    <tr>\n",
       "      <th>1</th>\n",
       "      <td>af07308b275d755c9edb36a90c618231</td>\n",
       "      <td>14.162002</td>\n",
       "      <td>1</td>\n",
       "      <td>1.601216</td>\n",
       "    </tr>\n",
       "    <tr>\n",
       "      <th>2</th>\n",
       "      <td>3a653a41f6f9fc3d2a113cf8398680e8</td>\n",
       "      <td>13.051752</td>\n",
       "      <td>1</td>\n",
       "      <td>1.647432</td>\n",
       "    </tr>\n",
       "    <tr>\n",
       "      <th>3</th>\n",
       "      <td>7c142cf63193a1473d2e66489a9ae977</td>\n",
       "      <td>25.737451</td>\n",
       "      <td>1</td>\n",
       "      <td>1.457031</td>\n",
       "    </tr>\n",
       "    <tr>\n",
       "      <th>4</th>\n",
       "      <td>72632f0f9dd73dfee390c9b22eb56dd6</td>\n",
       "      <td>22.505471</td>\n",
       "      <td>1</td>\n",
       "      <td>1.220373</td>\n",
       "    </tr>\n",
       "    <tr>\n",
       "      <th>...</th>\n",
       "      <td>...</td>\n",
       "      <td>...</td>\n",
       "      <td>...</td>\n",
       "      <td>...</td>\n",
       "    </tr>\n",
       "    <tr>\n",
       "      <th>96091</th>\n",
       "      <td>6359f309b166b0196dbf7ad2ac62bb5a</td>\n",
       "      <td>33.093157</td>\n",
       "      <td>1</td>\n",
       "      <td>1.494089</td>\n",
       "    </tr>\n",
       "    <tr>\n",
       "      <th>96092</th>\n",
       "      <td>da62f9e57a76d978d02ab5362c509660</td>\n",
       "      <td>22.786720</td>\n",
       "      <td>1</td>\n",
       "      <td>1.663569</td>\n",
       "    </tr>\n",
       "    <tr>\n",
       "      <th>96093</th>\n",
       "      <td>737520a9aad80b3fbbdad19b66b37b30</td>\n",
       "      <td>28.407875</td>\n",
       "      <td>1</td>\n",
       "      <td>1.723809</td>\n",
       "    </tr>\n",
       "    <tr>\n",
       "      <th>96094</th>\n",
       "      <td>5097a5312c8b157bb7be58ae360ef43c</td>\n",
       "      <td>23.908753</td>\n",
       "      <td>1</td>\n",
       "      <td>1.686544</td>\n",
       "    </tr>\n",
       "    <tr>\n",
       "      <th>96095</th>\n",
       "      <td>60350aa974b26ff12caad89e55993bd6</td>\n",
       "      <td>21.549312</td>\n",
       "      <td>1</td>\n",
       "      <td>1.498673</td>\n",
       "    </tr>\n",
       "  </tbody>\n",
       "</table>\n",
       "<p>96096 rows × 4 columns</p>\n",
       "</div>"
      ],
      "text/plain": [
       "                     customer_unique_id    Recency  Frequency  Monetary\n",
       "0      7c396fd4830fd04220f754e42b4e5bff  27.289810          2  1.303348\n",
       "1      af07308b275d755c9edb36a90c618231  14.162002          1  1.601216\n",
       "2      3a653a41f6f9fc3d2a113cf8398680e8  13.051752          1  1.647432\n",
       "3      7c142cf63193a1473d2e66489a9ae977  25.737451          1  1.457031\n",
       "4      72632f0f9dd73dfee390c9b22eb56dd6  22.505471          1  1.220373\n",
       "...                                 ...        ...        ...       ...\n",
       "96091  6359f309b166b0196dbf7ad2ac62bb5a  33.093157          1  1.494089\n",
       "96092  da62f9e57a76d978d02ab5362c509660  22.786720          1  1.663569\n",
       "96093  737520a9aad80b3fbbdad19b66b37b30  28.407875          1  1.723809\n",
       "96094  5097a5312c8b157bb7be58ae360ef43c  23.908753          1  1.686544\n",
       "96095  60350aa974b26ff12caad89e55993bd6  21.549312          1  1.498673\n",
       "\n",
       "[96096 rows x 4 columns]"
      ]
     },
     "execution_count": 8,
     "metadata": {},
     "output_type": "execute_result"
    }
   ],
   "source": [
    "df = pd.read_csv('../Data/2.RFM_dataset.csv')\n",
    "df = df.drop(columns='Monetary_bis')\n",
    "df"
   ]
  },
  {
   "cell_type": "code",
   "execution_count": 9,
   "metadata": {},
   "outputs": [
    {
     "data": {
      "text/plain": [
       "(25000, 4)"
      ]
     },
     "execution_count": 9,
     "metadata": {},
     "output_type": "execute_result"
    }
   ],
   "source": [
    "df_sample = df.sample(25000, replace=False)\n",
    "df_sample.shape"
   ]
  },
  {
   "cell_type": "code",
   "execution_count": 10,
   "metadata": {},
   "outputs": [
    {
     "name": "stdout",
     "output_type": "stream",
     "text": [
      "(25000, 3)\n",
      "(25000, 1)\n"
     ]
    }
   ],
   "source": [
    "X = df_sample.drop('customer_unique_id', axis=1).values\n",
    "y = pd.DataFrame(df_sample['customer_unique_id'].copy())\n",
    "print(X.shape)\n",
    "print(y.shape)"
   ]
  },
  {
   "cell_type": "code",
   "execution_count": 11,
   "metadata": {},
   "outputs": [
    {
     "name": "stdout",
     "output_type": "stream",
     "text": [
      "(25000, 3)\n"
     ]
    }
   ],
   "source": [
    "from sklearn import preprocessing\n",
    "\n",
    "X_norm = preprocessing.scale(X)\n",
    "print(X_norm.shape)"
   ]
  },
  {
   "cell_type": "code",
   "execution_count": 12,
   "metadata": {},
   "outputs": [],
   "source": [
    "from sklearn.cluster import AgglomerativeClustering\n",
    "\n",
    "n_clusters = 5\n",
    "CAH = AgglomerativeClustering(n_clusters=n_clusters)"
   ]
  },
  {
   "cell_type": "code",
   "execution_count": 13,
   "metadata": {},
   "outputs": [],
   "source": [
    "import time"
   ]
  },
  {
   "cell_type": "code",
   "execution_count": 14,
   "metadata": {},
   "outputs": [],
   "source": [
    "scoring_time_start = time.time()\n",
    "clusters = CAH.fit_predict(X_norm)\n",
    "scoring_time_end = time.time()"
   ]
  },
  {
   "cell_type": "code",
   "execution_count": 15,
   "metadata": {},
   "outputs": [
    {
     "data": {
      "text/plain": [
       "array([24.058456  , 18.66838414, 32.46116773, ..., 30.90402573,\n",
       "       30.24133318, 26.54433471])"
      ]
     },
     "execution_count": 15,
     "metadata": {},
     "output_type": "execute_result"
    }
   ],
   "source": [
    "X[:, 0]"
   ]
  },
  {
   "cell_type": "markdown",
   "metadata": {},
   "source": [
    "Nous pouvons par la suite agréger les différents cluster observés aux différents individus et les observer graphiquement. Le nombre de variable de la segmentation RFM étant au nombre de 3 nous effectuons une visualisation graphique en 3D."
   ]
  },
  {
   "cell_type": "code",
   "execution_count": 16,
   "metadata": {},
   "outputs": [
    {
     "data": {
      "text/html": [
       "<div>\n",
       "<style scoped>\n",
       "    .dataframe tbody tr th:only-of-type {\n",
       "        vertical-align: middle;\n",
       "    }\n",
       "\n",
       "    .dataframe tbody tr th {\n",
       "        vertical-align: top;\n",
       "    }\n",
       "\n",
       "    .dataframe thead th {\n",
       "        text-align: right;\n",
       "    }\n",
       "</style>\n",
       "<table border=\"1\" class=\"dataframe\">\n",
       "  <thead>\n",
       "    <tr style=\"text-align: right;\">\n",
       "      <th></th>\n",
       "      <th>customer_unique_id</th>\n",
       "      <th>Recency</th>\n",
       "      <th>Frequency</th>\n",
       "      <th>Monetary</th>\n",
       "      <th>Cluster</th>\n",
       "    </tr>\n",
       "  </thead>\n",
       "  <tbody>\n",
       "    <tr>\n",
       "      <th>4870</th>\n",
       "      <td>c4a991e4806ca21fbf9379ab328d1719</td>\n",
       "      <td>24.058456</td>\n",
       "      <td>1.0</td>\n",
       "      <td>1.543457</td>\n",
       "      <td>0</td>\n",
       "    </tr>\n",
       "    <tr>\n",
       "      <th>61558</th>\n",
       "      <td>adc21493fcb5364ab47ee52661307611</td>\n",
       "      <td>18.668384</td>\n",
       "      <td>1.0</td>\n",
       "      <td>1.633917</td>\n",
       "      <td>2</td>\n",
       "    </tr>\n",
       "    <tr>\n",
       "      <th>32604</th>\n",
       "      <td>45044049e27a8660cef7b3914c0c5675</td>\n",
       "      <td>32.461168</td>\n",
       "      <td>1.0</td>\n",
       "      <td>1.347835</td>\n",
       "      <td>0</td>\n",
       "    </tr>\n",
       "    <tr>\n",
       "      <th>71024</th>\n",
       "      <td>712c4abfd9b054e7872aad2021a4aee3</td>\n",
       "      <td>25.771703</td>\n",
       "      <td>2.0</td>\n",
       "      <td>1.697022</td>\n",
       "      <td>1</td>\n",
       "    </tr>\n",
       "    <tr>\n",
       "      <th>44696</th>\n",
       "      <td>4193c3b925c28a8bed29a97e6f30421e</td>\n",
       "      <td>13.051752</td>\n",
       "      <td>1.0</td>\n",
       "      <td>1.382839</td>\n",
       "      <td>2</td>\n",
       "    </tr>\n",
       "    <tr>\n",
       "      <th>...</th>\n",
       "      <td>...</td>\n",
       "      <td>...</td>\n",
       "      <td>...</td>\n",
       "      <td>...</td>\n",
       "      <td>...</td>\n",
       "    </tr>\n",
       "    <tr>\n",
       "      <th>57668</th>\n",
       "      <td>f703ca9256394a6670c9abf135cfe4ab</td>\n",
       "      <td>13.433683</td>\n",
       "      <td>1.0</td>\n",
       "      <td>1.641819</td>\n",
       "      <td>2</td>\n",
       "    </tr>\n",
       "    <tr>\n",
       "      <th>28034</th>\n",
       "      <td>49dc6f7059ff68d434ba7beed0ba33a9</td>\n",
       "      <td>29.035274</td>\n",
       "      <td>1.0</td>\n",
       "      <td>1.562383</td>\n",
       "      <td>4</td>\n",
       "    </tr>\n",
       "    <tr>\n",
       "      <th>82632</th>\n",
       "      <td>6af3cec61f62cadce067ba750186d5dc</td>\n",
       "      <td>30.904026</td>\n",
       "      <td>1.0</td>\n",
       "      <td>1.562756</td>\n",
       "      <td>4</td>\n",
       "    </tr>\n",
       "    <tr>\n",
       "      <th>20853</th>\n",
       "      <td>96b102f36c7dd1b98b680c1ef5cc66a7</td>\n",
       "      <td>30.241333</td>\n",
       "      <td>1.0</td>\n",
       "      <td>1.834287</td>\n",
       "      <td>4</td>\n",
       "    </tr>\n",
       "    <tr>\n",
       "      <th>16669</th>\n",
       "      <td>5f60c7674f590470c5f331c6de28ec34</td>\n",
       "      <td>26.544335</td>\n",
       "      <td>1.0</td>\n",
       "      <td>1.859772</td>\n",
       "      <td>4</td>\n",
       "    </tr>\n",
       "  </tbody>\n",
       "</table>\n",
       "<p>25000 rows × 5 columns</p>\n",
       "</div>"
      ],
      "text/plain": [
       "                     customer_unique_id    Recency  Frequency  Monetary  \\\n",
       "4870   c4a991e4806ca21fbf9379ab328d1719  24.058456        1.0  1.543457   \n",
       "61558  adc21493fcb5364ab47ee52661307611  18.668384        1.0  1.633917   \n",
       "32604  45044049e27a8660cef7b3914c0c5675  32.461168        1.0  1.347835   \n",
       "71024  712c4abfd9b054e7872aad2021a4aee3  25.771703        2.0  1.697022   \n",
       "44696  4193c3b925c28a8bed29a97e6f30421e  13.051752        1.0  1.382839   \n",
       "...                                 ...        ...        ...       ...   \n",
       "57668  f703ca9256394a6670c9abf135cfe4ab  13.433683        1.0  1.641819   \n",
       "28034  49dc6f7059ff68d434ba7beed0ba33a9  29.035274        1.0  1.562383   \n",
       "82632  6af3cec61f62cadce067ba750186d5dc  30.904026        1.0  1.562756   \n",
       "20853  96b102f36c7dd1b98b680c1ef5cc66a7  30.241333        1.0  1.834287   \n",
       "16669  5f60c7674f590470c5f331c6de28ec34  26.544335        1.0  1.859772   \n",
       "\n",
       "       Cluster  \n",
       "4870         0  \n",
       "61558        2  \n",
       "32604        0  \n",
       "71024        1  \n",
       "44696        2  \n",
       "...        ...  \n",
       "57668        2  \n",
       "28034        4  \n",
       "82632        4  \n",
       "20853        4  \n",
       "16669        4  \n",
       "\n",
       "[25000 rows x 5 columns]"
      ]
     },
     "execution_count": 16,
     "metadata": {},
     "output_type": "execute_result"
    }
   ],
   "source": [
    "y['Recency'] = X[:, 0]\n",
    "y['Frequency'] = X[:, 1]\n",
    "y['Monetary'] = X[:, 2]\n",
    "df_cluster = y.copy()\n",
    "df_cluster['Cluster'] = clusters\n",
    "df_cluster"
   ]
  },
  {
   "cell_type": "code",
   "execution_count": 17,
   "metadata": {},
   "outputs": [
    {
     "data": {
      "image/png": "[encoded data removed]",
      "text/plain": [
       "<Figure size 1000x800 with 2 Axes>"
      ]
     },
     "metadata": {},
     "output_type": "display_data"
    }
   ],
   "source": [
    "from mpl_toolkits.mplot3d import Axes3D\n",
    "\n",
    "fig = plt.figure(figsize=(10, 8))\n",
    "ax = fig.add_subplot(111, projection='3d')\n",
    "\n",
    "scatter = ax.scatter(df_cluster['Recency'],\n",
    "                     df_cluster['Frequency'],\n",
    "                     df_cluster['Monetary'],\n",
    "                     c=df_cluster['Cluster'], cmap='viridis')\n",
    "\n",
    "fig.colorbar(scatter, ax=ax, label='Clusters')\n",
    "\n",
    "ax.set_xlabel('Recency')\n",
    "ax.set_ylabel('Frequency')\n",
    "ax.set_zlabel('Monetary')\n",
    "\n",
    "ax.view_init(azim=10, elev=20)\n",
    "\n",
    "plt.title('Clusters en 3D')\n",
    "plt.show()"
   ]
  },
  {
   "cell_type": "markdown",
   "metadata": {},
   "source": [
    "Cette étape nous permet d'évaluer la pertinence du modèle en réalisant une étude de sa performance avec différentes métriques.\n",
    " - Un métric de temps de calcul du modèle de ML.\n",
    " - Le silhouette score\n",
    " - le coefficient de distortion n'étant pas disponible pour ce modèle nous l'initialisons à 0.\n",
    " - Davies Bouldin (mesure à quel point les clusters sont compacts et bien séparés les uns des autres.)"
   ]
  },
  {
   "cell_type": "code",
   "execution_count": 18,
   "metadata": {},
   "outputs": [],
   "source": [
    "from sklearn.metrics import davies_bouldin_score\n",
    "from sklearn import cluster, metrics\n",
    "\n",
    "duration_time = scoring_time_end - scoring_time_start\n",
    "silh_score = metrics.silhouette_score(X_norm, clusters)\n",
    "distortion = 0\n",
    "db_score = davies_bouldin_score(X_norm, clusters)"
   ]
  },
  {
   "cell_type": "code",
   "execution_count": 19,
   "metadata": {},
   "outputs": [],
   "source": [
    "import sys\n",
    "sys.path.append('..')"
   ]
  },
  {
   "cell_type": "code",
   "execution_count": 20,
   "metadata": {},
   "outputs": [],
   "source": [
    "from PythonFiles.Utils2 import *"
   ]
  },
  {
   "cell_type": "code",
   "execution_count": 21,
   "metadata": {},
   "outputs": [
    {
     "data": {
      "text/html": [
       "<div>\n",
       "<style scoped>\n",
       "    .dataframe tbody tr th:only-of-type {\n",
       "        vertical-align: middle;\n",
       "    }\n",
       "\n",
       "    .dataframe tbody tr th {\n",
       "        vertical-align: top;\n",
       "    }\n",
       "\n",
       "    .dataframe thead th {\n",
       "        text-align: right;\n",
       "    }\n",
       "</style>\n",
       "<table border=\"1\" class=\"dataframe\">\n",
       "  <thead>\n",
       "    <tr style=\"text-align: right;\">\n",
       "      <th></th>\n",
       "      <th>Model_name</th>\n",
       "      <th>Time</th>\n",
       "      <th>Silhouette_score</th>\n",
       "      <th>Coef_distortion</th>\n",
       "      <th>Davies-bouldin</th>\n",
       "    </tr>\n",
       "  </thead>\n",
       "  <tbody>\n",
       "    <tr>\n",
       "      <th>0</th>\n",
       "      <td>CAH</td>\n",
       "      <td>86.98427</td>\n",
       "      <td>0.307232</td>\n",
       "      <td>0</td>\n",
       "      <td>0.817826</td>\n",
       "    </tr>\n",
       "  </tbody>\n",
       "</table>\n",
       "</div>"
      ],
      "text/plain": [
       "  Model_name      Time  Silhouette_score  Coef_distortion  Davies-bouldin\n",
       "0        CAH  86.98427          0.307232                0        0.817826"
      ]
     },
     "execution_count": 21,
     "metadata": {},
     "output_type": "execute_result"
    }
   ],
   "source": [
    "resultats_modele3 = scoring_function('CAH',\n",
    "                                     duration_time,\n",
    "                                     silh_score,\n",
    "                                     distortion,\n",
    "                                     db_score)\n",
    "resultats_modele3"
   ]
  },
  {
   "cell_type": "code",
   "execution_count": 22,
   "metadata": {},
   "outputs": [],
   "source": [
    "AllScore_function(resultats_modele3)"
   ]
  },
  {
   "cell_type": "code",
   "execution_count": 23,
   "metadata": {},
   "outputs": [
    {
     "data": {
      "text/html": [
       "<div>\n",
       "<style scoped>\n",
       "    .dataframe tbody tr th:only-of-type {\n",
       "        vertical-align: middle;\n",
       "    }\n",
       "\n",
       "    .dataframe tbody tr th {\n",
       "        vertical-align: top;\n",
       "    }\n",
       "\n",
       "    .dataframe thead th {\n",
       "        text-align: right;\n",
       "    }\n",
       "</style>\n",
       "<table border=\"1\" class=\"dataframe\">\n",
       "  <thead>\n",
       "    <tr style=\"text-align: right;\">\n",
       "      <th></th>\n",
       "      <th>Unnamed: 0</th>\n",
       "      <th>Model_name</th>\n",
       "      <th>Time</th>\n",
       "      <th>Silhouette_score</th>\n",
       "      <th>Coef_distortion</th>\n",
       "      <th>Davies-bouldin</th>\n",
       "    </tr>\n",
       "  </thead>\n",
       "  <tbody>\n",
       "    <tr>\n",
       "      <th>0</th>\n",
       "      <td>NaN</td>\n",
       "      <td>k_means</td>\n",
       "      <td>0.318596</td>\n",
       "      <td>0.408218</td>\n",
       "      <td>98799.913722</td>\n",
       "      <td>0.686319</td>\n",
       "    </tr>\n",
       "    <tr>\n",
       "      <th>1</th>\n",
       "      <td>NaN</td>\n",
       "      <td>DBSCAN</td>\n",
       "      <td>60.573306</td>\n",
       "      <td>0.690714</td>\n",
       "      <td>0.000000</td>\n",
       "      <td>0.808110</td>\n",
       "    </tr>\n",
       "    <tr>\n",
       "      <th>2</th>\n",
       "      <td>NaN</td>\n",
       "      <td>CAH</td>\n",
       "      <td>86.984270</td>\n",
       "      <td>0.307232</td>\n",
       "      <td>0.000000</td>\n",
       "      <td>0.817826</td>\n",
       "    </tr>\n",
       "  </tbody>\n",
       "</table>\n",
       "</div>"
      ],
      "text/plain": [
       "   Unnamed: 0 Model_name       Time  Silhouette_score  Coef_distortion  \\\n",
       "0         NaN    k_means   0.318596          0.408218     98799.913722   \n",
       "1         NaN     DBSCAN  60.573306          0.690714         0.000000   \n",
       "2         NaN        CAH  86.984270          0.307232         0.000000   \n",
       "\n",
       "   Davies-bouldin  \n",
       "0        0.686319  \n",
       "1        0.808110  \n",
       "2        0.817826  "
      ]
     },
     "execution_count": 23,
     "metadata": {},
     "output_type": "execute_result"
    }
   ],
   "source": [
    "df_testx = pd.read_csv('../Data/0.global_scoring.csv')\n",
    "df_testx"
   ]
  },
  {
   "cell_type": "code",
   "execution_count": null,
   "metadata": {},
   "outputs": [],
   "source": []
  }
 ],
 "metadata": {
  "kernelspec": {
   "display_name": "base",
   "language": "python",
   "name": "python3"
  },
  "language_info": {
   "codemirror_mode": {
    "name": "ipython",
    "version": 3
   },
   "file_extension": ".py",
   "mimetype": "text/x-python",
   "name": "python",
   "nbconvert_exporter": "python",
   "pygments_lexer": "ipython3",
   "version": "3.10.9"
  }
 },
 "nbformat": 4,
 "nbformat_minor": 2
}
