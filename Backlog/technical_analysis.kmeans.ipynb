{
 "cells": [
  {
   "cell_type": "code",
   "execution_count": 1,
   "metadata": {},
   "outputs": [],
   "source": [
    "#manipulation des données\n",
    "import numpy as np\n",
    "import pandas as pd \n",
    "\n",
    "# sklearn preprocessing pour le traiter les variables catégorielles\n",
    "from sklearn.preprocessing import LabelEncoder\n",
    "\n",
    "# Gestion du système de fichiers\n",
    "import os\n",
    "\n",
    "# Suppression des alertes \n",
    "import warnings\n",
    "warnings.filterwarnings('ignore')\n",
    "\n",
    "# matplotlib et seaborn pour les représentations graphiques\n",
    "import matplotlib.pyplot as plt\n",
    "import seaborn as sns\n",
    "import missingno as msno\n",
    "\n",
    "pd.set_option('display.max_columns', None) #permet d'afficher toutes les colonnes"
   ]
  },
  {
   "cell_type": "markdown",
   "metadata": {},
   "source": [
    "Calinski-Harabasz Index : Cet indice mesure à quel point les clusters sont denses et bien séparés. Il est basé sur la variance intra-cluster et la variance inter-cluster. Un score plus élevé indique des clusters de meilleure qualité."
   ]
  },
  {
   "cell_type": "code",
   "execution_count": 2,
   "metadata": {},
   "outputs": [
    {
     "data": {
      "text/html": [
       "<div>\n",
       "<style scoped>\n",
       "    .dataframe tbody tr th:only-of-type {\n",
       "        vertical-align: middle;\n",
       "    }\n",
       "\n",
       "    .dataframe tbody tr th {\n",
       "        vertical-align: top;\n",
       "    }\n",
       "\n",
       "    .dataframe thead th {\n",
       "        text-align: right;\n",
       "    }\n",
       "</style>\n",
       "<table border=\"1\" class=\"dataframe\">\n",
       "  <thead>\n",
       "    <tr style=\"text-align: right;\">\n",
       "      <th></th>\n",
       "      <th>customer_unique_id</th>\n",
       "      <th>Recency</th>\n",
       "      <th>Frequency</th>\n",
       "      <th>Monetary</th>\n",
       "      <th>Cluster</th>\n",
       "    </tr>\n",
       "  </thead>\n",
       "  <tbody>\n",
       "    <tr>\n",
       "      <th>0</th>\n",
       "      <td>7c396fd4830fd04220f754e42b4e5bff</td>\n",
       "      <td>27.289810</td>\n",
       "      <td>2</td>\n",
       "      <td>1.303348</td>\n",
       "      <td>1</td>\n",
       "    </tr>\n",
       "    <tr>\n",
       "      <th>1</th>\n",
       "      <td>af07308b275d755c9edb36a90c618231</td>\n",
       "      <td>14.162002</td>\n",
       "      <td>1</td>\n",
       "      <td>1.601216</td>\n",
       "      <td>2</td>\n",
       "    </tr>\n",
       "    <tr>\n",
       "      <th>2</th>\n",
       "      <td>3a653a41f6f9fc3d2a113cf8398680e8</td>\n",
       "      <td>13.051752</td>\n",
       "      <td>1</td>\n",
       "      <td>1.647432</td>\n",
       "      <td>2</td>\n",
       "    </tr>\n",
       "    <tr>\n",
       "      <th>3</th>\n",
       "      <td>7c142cf63193a1473d2e66489a9ae977</td>\n",
       "      <td>25.737451</td>\n",
       "      <td>1</td>\n",
       "      <td>1.457031</td>\n",
       "      <td>0</td>\n",
       "    </tr>\n",
       "    <tr>\n",
       "      <th>4</th>\n",
       "      <td>72632f0f9dd73dfee390c9b22eb56dd6</td>\n",
       "      <td>22.505471</td>\n",
       "      <td>1</td>\n",
       "      <td>1.220373</td>\n",
       "      <td>2</td>\n",
       "    </tr>\n",
       "    <tr>\n",
       "      <th>...</th>\n",
       "      <td>...</td>\n",
       "      <td>...</td>\n",
       "      <td>...</td>\n",
       "      <td>...</td>\n",
       "      <td>...</td>\n",
       "    </tr>\n",
       "    <tr>\n",
       "      <th>96091</th>\n",
       "      <td>6359f309b166b0196dbf7ad2ac62bb5a</td>\n",
       "      <td>33.093157</td>\n",
       "      <td>1</td>\n",
       "      <td>1.494089</td>\n",
       "      <td>0</td>\n",
       "    </tr>\n",
       "    <tr>\n",
       "      <th>96092</th>\n",
       "      <td>da62f9e57a76d978d02ab5362c509660</td>\n",
       "      <td>22.786720</td>\n",
       "      <td>1</td>\n",
       "      <td>1.663569</td>\n",
       "      <td>2</td>\n",
       "    </tr>\n",
       "    <tr>\n",
       "      <th>96093</th>\n",
       "      <td>737520a9aad80b3fbbdad19b66b37b30</td>\n",
       "      <td>28.407875</td>\n",
       "      <td>1</td>\n",
       "      <td>1.723809</td>\n",
       "      <td>0</td>\n",
       "    </tr>\n",
       "    <tr>\n",
       "      <th>96094</th>\n",
       "      <td>5097a5312c8b157bb7be58ae360ef43c</td>\n",
       "      <td>23.908753</td>\n",
       "      <td>1</td>\n",
       "      <td>1.686544</td>\n",
       "      <td>0</td>\n",
       "    </tr>\n",
       "    <tr>\n",
       "      <th>96095</th>\n",
       "      <td>60350aa974b26ff12caad89e55993bd6</td>\n",
       "      <td>21.549312</td>\n",
       "      <td>1</td>\n",
       "      <td>1.498673</td>\n",
       "      <td>2</td>\n",
       "    </tr>\n",
       "  </tbody>\n",
       "</table>\n",
       "<p>96096 rows × 5 columns</p>\n",
       "</div>"
      ],
      "text/plain": [
       "                     customer_unique_id    Recency  Frequency  Monetary  \\\n",
       "0      7c396fd4830fd04220f754e42b4e5bff  27.289810          2  1.303348   \n",
       "1      af07308b275d755c9edb36a90c618231  14.162002          1  1.601216   \n",
       "2      3a653a41f6f9fc3d2a113cf8398680e8  13.051752          1  1.647432   \n",
       "3      7c142cf63193a1473d2e66489a9ae977  25.737451          1  1.457031   \n",
       "4      72632f0f9dd73dfee390c9b22eb56dd6  22.505471          1  1.220373   \n",
       "...                                 ...        ...        ...       ...   \n",
       "96091  6359f309b166b0196dbf7ad2ac62bb5a  33.093157          1  1.494089   \n",
       "96092  da62f9e57a76d978d02ab5362c509660  22.786720          1  1.663569   \n",
       "96093  737520a9aad80b3fbbdad19b66b37b30  28.407875          1  1.723809   \n",
       "96094  5097a5312c8b157bb7be58ae360ef43c  23.908753          1  1.686544   \n",
       "96095  60350aa974b26ff12caad89e55993bd6  21.549312          1  1.498673   \n",
       "\n",
       "       Cluster  \n",
       "0            1  \n",
       "1            2  \n",
       "2            2  \n",
       "3            0  \n",
       "4            2  \n",
       "...        ...  \n",
       "96091        0  \n",
       "96092        2  \n",
       "96093        0  \n",
       "96094        0  \n",
       "96095        2  \n",
       "\n",
       "[96096 rows x 5 columns]"
      ]
     },
     "execution_count": 2,
     "metadata": {},
     "output_type": "execute_result"
    }
   ],
   "source": [
    "df = pd.read_csv('./clustert_dataset.csv')\n",
    "df"
   ]
  },
  {
   "cell_type": "code",
   "execution_count": 5,
   "metadata": {},
   "outputs": [
    {
     "data": {
      "text/plain": [
       "64510.75075976258"
      ]
     },
     "execution_count": 5,
     "metadata": {},
     "output_type": "execute_result"
    }
   ],
   "source": [
    "from sklearn.metrics import calinski_harabasz_score\n",
    "\n",
    "features = df.drop(columns=['Cluster', 'customer_unique_id'])\n",
    "cluster = df['Cluster'].copy()\n",
    "\n",
    "ch_score = calinski_harabasz_score(features, cluster)\n",
    "ch_score"
   ]
  },
  {
   "cell_type": "markdown",
   "metadata": {},
   "source": [
    "Un score élevé indique une bonne séparation des données mais bof à ce que je peux constater"
   ]
  },
  {
   "cell_type": "markdown",
   "metadata": {},
   "source": []
  }
 ],
 "metadata": {
  "kernelspec": {
   "display_name": "base",
   "language": "python",
   "name": "python3"
  },
  "language_info": {
   "codemirror_mode": {
    "name": "ipython",
    "version": 3
   },
   "file_extension": ".py",
   "mimetype": "text/x-python",
   "name": "python",
   "nbconvert_exporter": "python",
   "pygments_lexer": "ipython3",
   "version": "3.10.9"
  }
 },
 "nbformat": 4,
 "nbformat_minor": 2
}
